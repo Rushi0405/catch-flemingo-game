{
  "nbformat": 4,
  "nbformat_minor": 0,
  "metadata": {
    "colab": {
      "provenance": []
    },
    "kernelspec": {
      "name": "python3",
      "display_name": "Python 3"
    },
    "language_info": {
      "name": "python"
    }
  },
  "cells": [
    {
      "cell_type": "code",
      "source": [
        "!pip install pyspark"
      ],
      "metadata": {
        "colab": {
          "base_uri": "https://localhost:8080/"
        },
        "id": "A4B-Bwt9_PmN",
        "outputId": "bc741299-7407-4b9c-d070-aa33d084d7f0"
      },
      "execution_count": 7,
      "outputs": [
        {
          "output_type": "stream",
          "name": "stdout",
          "text": [
            "Looking in indexes: https://pypi.org/simple, https://us-python.pkg.dev/colab-wheels/public/simple/\n",
            "Collecting pyspark\n",
            "  Downloading pyspark-3.4.0.tar.gz (310.8 MB)\n",
            "\u001b[2K     \u001b[90m━━━━━━━━━━━━━━━━━━━━━━━━━━━━━━━━━━━━━━━\u001b[0m \u001b[32m310.8/310.8 MB\u001b[0m \u001b[31m4.1 MB/s\u001b[0m eta \u001b[36m0:00:00\u001b[0m\n",
            "\u001b[?25h  Preparing metadata (setup.py) ... \u001b[?25l\u001b[?25hdone\n",
            "Requirement already satisfied: py4j==0.10.9.7 in /usr/local/lib/python3.10/dist-packages (from pyspark) (0.10.9.7)\n",
            "Building wheels for collected packages: pyspark\n",
            "  Building wheel for pyspark (setup.py) ... \u001b[?25l\u001b[?25hdone\n",
            "  Created wheel for pyspark: filename=pyspark-3.4.0-py2.py3-none-any.whl size=311317130 sha256=de60c24954b76e503cee43b238f4a2aee2776b1148ab734b02e3e3c53bcc9ba7\n",
            "  Stored in directory: /root/.cache/pip/wheels/7b/1b/4b/3363a1d04368e7ff0d408e57ff57966fcdf00583774e761327\n",
            "Successfully built pyspark\n",
            "Installing collected packages: pyspark\n",
            "Successfully installed pyspark-3.4.0\n"
          ]
        }
      ]
    },
    {
      "cell_type": "code",
      "execution_count": 8,
      "metadata": {
        "colab": {
          "base_uri": "https://localhost:8080/"
        },
        "id": "WDQj-xDp8tur",
        "outputId": "798013ff-0d48-4a43-9f36-3e7acfd8b716"
      },
      "outputs": [
        {
          "output_type": "stream",
          "name": "stdout",
          "text": [
            "MSE (SVM): 38.06371113330674\n",
            "Silhouette Score (K-means): 0.4683428375220332\n"
          ]
        }
      ],
      "source": [
        "from pyspark.sql import SparkSession\n",
        "\n",
        "from pyspark.ml.feature import StandardScaler, VectorAssembler, StringIndexer\n",
        "\n",
        "from pyspark.ml.regression import LinearRegression\n",
        "\n",
        "from pyspark.ml.clustering import KMeans\n",
        "\n",
        "from pyspark.ml.evaluation import RegressionEvaluator, ClusteringEvaluator\n",
        "\n",
        "from pyspark.ml import Pipeline\n",
        "\n",
        "import pandas as pd\n",
        "\n",
        "\n",
        "\n",
        "\n",
        "# Create a SparkSession\n",
        "\n",
        "spark = SparkSession.builder.getOrCreate()\n",
        "\n",
        "\n",
        "\n",
        "\n",
        "# Read the data from the CSV file\n",
        "\n",
        "data = spark.read.csv(\"combined-data.csv\", header=True, inferSchema=True)\n",
        "\n",
        "\n",
        "\n",
        "\n",
        "# Select the desired columns as features\n",
        "\n",
        "feature_columns = [\"userId\", \"userSessionId\", \"teamLevel\", \"count_gameclicks\", \"count_hits\"]\n",
        "\n",
        "assembler = VectorAssembler(inputCols=feature_columns, outputCol=\"features\")\n",
        "\n",
        "features = assembler.transform(data)\n",
        "\n",
        "\n",
        "\n",
        "\n",
        "# Convert count_buyId and avg_price columns to numerical types\n",
        "\n",
        "indexer = StringIndexer(inputCol=\"count_buyId\", outputCol=\"count_buyId_indexed\")\n",
        "\n",
        "features = indexer.fit(features).transform(features)\n",
        "\n",
        "indexer = StringIndexer(inputCol=\"avg_price\", outputCol=\"avg_price_indexed\")\n",
        "\n",
        "features = indexer.fit(features).transform(features)\n",
        "\n",
        "\n",
        "\n",
        "\n",
        "# Select the target column\n",
        "\n",
        "target_column = \"avg_price_indexed\"  # Replace with the actual indexed target column name\n",
        "\n",
        "\n",
        "\n",
        "# Drop rows with missing values in the target column\n",
        "\n",
        "features = features.na.drop(subset=[target_column])\n",
        "\n",
        "\n",
        "\n",
        "\n",
        "# Scale the features\n",
        "\n",
        "scaler = StandardScaler(inputCol=\"features\", outputCol=\"scaled_features\")\n",
        "\n",
        "scaler_model = scaler.fit(features)\n",
        "\n",
        "features = scaler_model.transform(features)\n",
        "\n",
        "\n",
        "\n",
        "\n",
        "# Split the data into training and test sets\n",
        "\n",
        "train_data, test_data = features.randomSplit([0.7, 0.3], seed=42)\n",
        "\n",
        "\n",
        "\n",
        "\n",
        "# Train an SVM regressor\n",
        "\n",
        "svr = LinearRegression(featuresCol=\"scaled_features\", labelCol=target_column)\n",
        "\n",
        "svr_model = svr.fit(train_data)\n",
        "\n",
        "\n",
        "\n",
        "\n",
        "# Make predictions on the test set\n",
        "\n",
        "predictions_svm = svr_model.transform(test_data)\n",
        "\n",
        "\n",
        "\n",
        "\n",
        "# Calculate the mean squared error (MSE) of the SVM model\n",
        "\n",
        "evaluator = RegressionEvaluator(labelCol=target_column, predictionCol=\"prediction\", metricName=\"mse\")\n",
        "\n",
        "mse_svm = evaluator.evaluate(predictions_svm)\n",
        "\n",
        "print(\"MSE (SVM):\", mse_svm)\n",
        "\n",
        "\n",
        "\n",
        "\n",
        "# Train a K-means clustering model\n",
        "\n",
        "K = 5  # Replace with the desired number of clusters\n",
        "\n",
        "\n",
        "kmeans = KMeans(featuresCol=\"scaled_features\", k=K, seed=42)\n",
        "\n",
        "kmeans_model = kmeans.fit(features)\n",
        "\n",
        "\n",
        "\n",
        "\n",
        "# Assign cluster labels to the data points\n",
        "\n",
        "predictions_kmeans = kmeans_model.transform(features)\n",
        "\n",
        "\n",
        "\n",
        "\n",
        "# Calculate the silhouette score of the K-means model\n",
        "\n",
        "evaluator = ClusteringEvaluator(predictionCol=\"prediction\", featuresCol=\"scaled_features\", metricName=\"silhouette\")\n",
        "\n",
        "silhouette_score_kmeans = evaluator.evaluate(predictions_kmeans)\n",
        "\n",
        "print(\"Silhouette Score (K-means):\", silhouette_score_kmeans)"
      ]
    },
    {
      "cell_type": "code",
      "source": [
        "from pyspark.sql import SparkSession\n",
        "from pyspark.ml.feature import StandardScaler, VectorAssembler, StringIndexer\n",
        "from pyspark.ml.clustering import BisectingKMeans\n",
        "from pyspark.ml.evaluation import ClusteringEvaluator\n",
        "from pyspark.ml import Pipeline\n",
        "\n",
        "# Create a SparkSession\n",
        "spark = SparkSession.builder.getOrCreate()\n",
        "\n",
        "# Read the data from the CSV file\n",
        "data = spark.read.csv(\"combined-data.csv\", header=True, inferSchema=True)\n",
        "\n",
        "# Select the desired columns as features\n",
        "feature_columns = [\"userId\", \"userSessionId\", \"teamLevel\", \"count_gameclicks\", \"count_hits\"]\n",
        "assembler = VectorAssembler(inputCols=feature_columns, outputCol=\"features\")\n",
        "features = assembler.transform(data)\n",
        "\n",
        "# Convert count_buyId and avg_price columns to numerical types\n",
        "indexer = StringIndexer(inputCol=\"count_buyId\", outputCol=\"count_buyId_indexed\")\n",
        "features = indexer.fit(features).transform(features)\n",
        "indexer = StringIndexer(inputCol=\"avg_price\", outputCol=\"avg_price_indexed\")\n",
        "features = indexer.fit(features).transform(features)\n",
        "\n",
        "# Select the target column\n",
        "target_column = \"avg_price_indexed\"\n",
        "\n",
        "# Drop rows with missing values in the target column\n",
        "features = features.na.drop(subset=[target_column])\n",
        "\n",
        "# Scale the features\n",
        "scaler = StandardScaler(inputCol=\"features\", outputCol=\"scaled_features\")\n",
        "scaler_model = scaler.fit(features)\n",
        "features = scaler_model.transform(features)\n",
        "\n",
        "# Split the data into training and test sets\n",
        "train_data, test_data = features.randomSplit([0.7, 0.3], seed=42)\n",
        "\n",
        "# Train a hierarchical clustering model\n",
        "K = 5  # Replace with the desired number of clusters\n",
        "hierarchical_clusterer = BisectingKMeans(featuresCol=\"scaled_features\", k=K, seed=42)\n",
        "hierarchical_model = hierarchical_clusterer.fit(train_data)\n",
        "\n",
        "# Assign cluster labels to the data points\n",
        "predictions_hierarchical = hierarchical_model.transform(features)\n",
        "\n",
        "# Calculate the silhouette score of the hierarchical clustering model\n",
        "evaluator = ClusteringEvaluator(predictionCol=\"prediction\", featuresCol=\"scaled_features\", metricName=\"silhouette\")\n",
        "silhouette_score_hierarchical = evaluator.evaluate(predictions_hierarchical)\n",
        "\n",
        "print(\"Silhouette Score (Hierarchical Clustering):\", silhouette_score_hierarchical)"
      ],
      "metadata": {
        "colab": {
          "base_uri": "https://localhost:8080/"
        },
        "id": "oigE_KL6ADyb",
        "outputId": "108d4713-7a41-4f3f-d85c-2db4c3e237f2"
      },
      "execution_count": 10,
      "outputs": [
        {
          "output_type": "stream",
          "name": "stdout",
          "text": [
            "Silhouette Score (Hierarchical Clustering): 0.39391358666500675\n"
          ]
        }
      ]
    },
    {
      "cell_type": "code",
      "source": [
        "import matplotlib.pyplot as plt\n",
        "\n",
        "# Train a hierarchical clustering model\n",
        "K = 5  # Replace with the desired number of clusters\n",
        "hierarchical_clusterer = BisectingKMeans(featuresCol=\"scaled_features\", k=K, seed=42)\n",
        "hierarchical_model = hierarchical_clusterer.fit(features)\n",
        "\n",
        "# Assign cluster labels to the data points\n",
        "predictions_hierarchical = hierarchical_model.transform(features)\n",
        "\n",
        "# Extract the cluster assignments from the hierarchical clustering model's predictions\n",
        "hierarchical_df = predictions_hierarchical.select(\"scaled_features\", \"prediction\").toPandas()\n",
        "cluster_assignments_hierarchical = hierarchical_df[\"prediction\"]\n",
        "\n",
        "# Count the number of data points in each cluster\n",
        "cluster_counts_hierarchical = cluster_assignments_hierarchical.value_counts()\n",
        "\n",
        "# Create a bar plot of cluster assignments for hierarchical clustering\n",
        "plt.bar(cluster_counts_hierarchical.index, cluster_counts_hierarchical.values)\n",
        "plt.xlabel(\"Cluster\")\n",
        "plt.ylabel(\"Count\")\n",
        "plt.title(\"Hierarchical Clustering: Cluster Assignments\")\n",
        "plt.show()\n"
      ],
      "metadata": {
        "colab": {
          "base_uri": "https://localhost:8080/",
          "height": 472
        },
        "id": "KLfYkDqwBqXS",
        "outputId": "06aee8c9-ccef-4ac0-d4ed-93830ee838f8"
      },
      "execution_count": 12,
      "outputs": [
        {
          "output_type": "display_data",
          "data": {
            "text/plain": [
              "<Figure size 640x480 with 1 Axes>"
            ],
            "image/png": "[encoded data removed]"
          },
          "metadata": {}
        }
      ]
    },
    {
      "cell_type": "code",
      "source": [],
      "metadata": {
        "id": "SLc5f85YCRbo"
      },
      "execution_count": null,
      "outputs": []
    }
  ]
}